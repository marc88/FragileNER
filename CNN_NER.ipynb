{
 "cells": [
  {
   "cell_type": "code",
   "execution_count": null,
   "metadata": {},
   "outputs": [],
   "source": [
    "import torch\n",
    "import torch.nn as nn\n",
    "from torch.autograd import Variable\n",
    "import torch.optim as optim\n",
    "import torch.nn.functional as F\n",
    "import nltk\n",
    "import random\n",
    "import numpy as np\n",
    "from collections import Counter\n",
    "flatten = lambda l: [item for sublist in l for item in sublist]\n",
    "from sklearn_crfsuite import metrics\n",
    "random.seed(1024)\n",
    "import torchtext.vocab as vocab\n",
    "import numpy as np\n",
    "from sklearn.preprocessing import LabelEncoder,OneHotEncoder\n",
    "import time\n",
    "import sklearn_crfsuite\n",
    "from sklearn_crfsuite import scorers\n",
    "from sklearn_crfsuite import metrics"
   ]
  },
  {
   "cell_type": "code",
   "execution_count": null,
   "metadata": {},
   "outputs": [],
   "source": [
    "def readfile(filename):\n",
    "    '''\n",
    "    read file\n",
    "    \n",
    "    return format : [[word,NER-tag],[word,NER-tag],[word,NER-tag]..........]\n",
    "    Example:\n",
    "            [ [('EU', 'B-ORG\\n'),\n",
    "          ('rejects', 'O\\n'),\n",
    "          ('German', 'B-MISC\\n'),\n",
    "          ('call', 'O\\n'),\n",
    "          ('to', 'O\\n'),\n",
    "          ('boycott', 'O\\n'),\n",
    "          ('British', 'B-MISC\\n'),\n",
    "          ('lamb', 'O\\n'),\n",
    "          ('.', 'O\\n')], ]\n",
    "    '''\n",
    "    f = open(filename)\n",
    "    sentences = []\n",
    "    sentence = []\n",
    "    for line in f:\n",
    "        if len(line)==0 or line.startswith('-DOCSTART') or line[0]==\"\\n\":\n",
    "            if len(sentence) > 0:\n",
    "                sentences.append(sentence)\n",
    "                sentence = []\n",
    "            continue\n",
    "        splits = line.split(' ')\n",
    "        sentence.append((splits[0],splits[-1]))\n",
    "\n",
    "    if len(sentence) >0:\n",
    "        sentences.append(sentence)\n",
    "        sentence = []\n",
    "    return sentences"
   ]
  },
  {
   "cell_type": "code",
   "execution_count": null,
   "metadata": {},
   "outputs": [],
   "source": [
    "'''Segregate words and tags and find count of each tag(each tag being a class)\n",
    "words = ['EU','rejects','German','call','to','boycott','British','lamb'..................]\n",
    "tags = ['B-ORG\\n', 'O\\n','B-MISC\\n','O\\n','O\\n','O\\n','B-MISC\\n','O\\n','O\\n','B-PER\\n'...]\n",
    "'''\n",
    "\n",
    "tag_counts = {}\n",
    "words = []\n",
    "tags = []\n",
    "for word in flatten(readfile('train.txt')):\n",
    "    words.append(word[0])\n",
    "    tags.append(word[1])\n",
    "    tag_counts[word[1]] = tag_counts.get(word[1], 0) + 1"
   ]
  },
  {
   "cell_type": "code",
   "execution_count": null,
   "metadata": {},
   "outputs": [],
   "source": [
    "tag_counts"
   ]
  },
  {
   "cell_type": "code",
   "execution_count": null,
   "metadata": {},
   "outputs": [],
   "source": [
    "# dataset_length = 10\n",
    "# epoch_length = 100 # each epoch sees 100 draws of samples\n",
    "# sample_probabilities = torch.randn(23623)\n",
    "# weighted_sampler = torch.utils.data.sampler.WeightedRandomSampler(sample_probabilities, epoch_length)\n",
    "# torch.utils.data.DataLoader(...., sampler=weighted_sampler)"
   ]
  },
  {
   "cell_type": "code",
   "execution_count": null,
   "metadata": {},
   "outputs": [],
   "source": [
    "# prob = 1/sampler # probability of class 1 = 0.7, of 2 = 0.3 etc\n",
    "# # class[i] = list containing class present at index i in the dataset  \n",
    "# for index in 23623:\n",
    "#     reciprocal_weights[index] = prob[class[index]]\n",
    "\n",
    "# weights = (1 / torch.Tensor(reciprocal_weights))\n",
    "# sampler = torch.utils.data.sampler.WeightedRandomSampler(weights, len(dataset))"
   ]
  },
  {
   "cell_type": "code",
   "execution_count": null,
   "metadata": {},
   "outputs": [],
   "source": [
    "tagset=list(set(tags))\n",
    "vocab = set(words)\n",
    "len(vocab)"
   ]
  },
  {
   "cell_type": "code",
   "execution_count": null,
   "metadata": {},
   "outputs": [],
   "source": [
    "'''Populate word2index to index each word\n",
    "word2index = {'<UNK>': 0,'<PAD>': 1,'chosed': 2,'prized': 3,'coconut': 4,'11': 5,'3.65': 6,'myth': 7,'McKinney': 8,'1948-52': 9 .... }\n",
    "\n",
    "'''\n",
    "\n",
    "word2index={'<UNK>' : 0,'<PAD>':1} # dummy token is for start or end of sentence\n",
    "for vo in vocab:\n",
    "    if word2index.get(vo) is None:\n",
    "        word2index[vo] = len(word2index)\n",
    "index2word = {v:k for k, v in word2index.items()}\n",
    "\n",
    "len(word2index)"
   ]
  },
  {
   "cell_type": "code",
   "execution_count": null,
   "metadata": {},
   "outputs": [],
   "source": [
    "'''Populate tag2index to index each tag (or class).\n",
    "In the cells further from here, we'd treat each word's NER tag as a class'''\n",
    "\n",
    "tag2index = {'PAD':0}\n",
    "for tag in tagset:\n",
    "    if tag2index.get(tag) is None:\n",
    "        tag2index[tag] = len(tag2index)\n",
    "index2tag={v:k for k, v in tag2index.items()}\n",
    "tag2index"
   ]
  },
  {
   "cell_type": "code",
   "execution_count": null,
   "metadata": {},
   "outputs": [],
   "source": [
    "'''View data'''\n",
    "\n",
    "data = []\n",
    "for sent in readfile('train.txt'):\n",
    "    words,tags=list(zip(*sent))\n",
    "    data.append([words,tags])\n",
    "data[0][0]"
   ]
  },
  {
   "cell_type": "code",
   "execution_count": null,
   "metadata": {},
   "outputs": [],
   "source": [
    "'''Form sentence windows\n",
    "\n",
    "input sentence = ('EU', 'rejects', 'German', 'call', 'to', 'boycott', 'British', 'lamb', '.')\n",
    "\n",
    "output_windows = \n",
    "\n",
    "('<PAD>', '<PAD>', '<PAD>', 'EU', 'rejects', 'German', 'call', 'to', 'boycott'), \n",
    "('<PAD>', '<PAD>', 'EU', 'rejects', 'German', 'call', 'to', 'boycott', 'British'),\n",
    " ('<PAD>', 'EU', 'rejects', 'German', 'call', 'to', 'boycott', 'British', 'lamb'),\n",
    " ('EU', 'rejects', 'German', 'call', 'to', 'boycott', 'British', 'lamb', '.'), \n",
    "('rejects', 'German', 'call', 'to', 'boycott', 'British', 'lamb', '.', '<PAD>'), \n",
    "('German', 'call', 'to', 'boycott', 'British', 'lamb', '.', '<PAD>', '<PAD>'), \n",
    "('call', 'to', 'boycott', 'British', 'lamb', '.', '<PAD>', '<PAD>', '<PAD>'), \n",
    "('to', 'boycott', 'British', 'lamb', '.', '<PAD>', '<PAD>', '<PAD>', '<PAD>')]\n",
    "\n",
    "THE MODEL CONVOLVES OVER EACH WINDOW AS AN INDIVIDUAL IMAGE POST EMBEDDING.\n",
    "AREA of Improvement: Choice of the best embedding scheme. Currently it only uses the default embeddings available with PyTorch'''\n",
    "\n",
    "WINDOW_SIZE = 4\n",
    "windows = []\n",
    "for sample in data:\n",
    "    dummy = ['<PAD>'] * WINDOW_SIZE\n",
    "    window_sent = list(nltk.ngrams(dummy + list(sample[0]) + dummy, WINDOW_SIZE * 2 + 1))\n",
    "    window_tag = list(nltk.ngrams(['PAD']*WINDOW_SIZE + list(sample[1]) + ['PAD']*WINDOW_SIZE, WINDOW_SIZE * 2 + 1))\n",
    "    tag_counts['PAD'] = tag_counts.get('PAD', 0) + 2*WINDOW_SIZE\n",
    "    windows.extend([[list(window_sent[i]), list(window_tag[i])] for i in range(len(sample[0]))])\n",
    "len(windows)"
   ]
  },
  {
   "cell_type": "code",
   "execution_count": null,
   "metadata": {},
   "outputs": [],
   "source": [
    "'''Get class size by indices'''\n",
    "\n",
    "indexed_counts = {}\n",
    "for key in tag2index.keys():\n",
    "    indexed_counts[tag2index[key]] = tag_counts[key]\n",
    "    "
   ]
  },
  {
   "cell_type": "code",
   "execution_count": null,
   "metadata": {},
   "outputs": [],
   "source": [
    "indexed_counts"
   ]
  },
  {
   "cell_type": "code",
   "execution_count": null,
   "metadata": {},
   "outputs": [],
   "source": [
    "tag_counts"
   ]
  },
  {
   "cell_type": "code",
   "execution_count": null,
   "metadata": {},
   "outputs": [],
   "source": [
    "'''Calculate class weights and populate into a list named sampler in order of the class indices'''\n",
    "\n",
    "tag_weights = {}\n",
    "for key in indexed_counts.keys():\n",
    "    tag_weights[key] = 1/indexed_counts[key]\n",
    "sampler = [i[1] for i in sorted(tag_weights.items())]"
   ]
  },
  {
   "cell_type": "code",
   "execution_count": null,
   "metadata": {},
   "outputs": [],
   "source": [
    "sampler"
   ]
  },
  {
   "cell_type": "code",
   "execution_count": null,
   "metadata": {},
   "outputs": [],
   "source": [
    "'''Compare the order of class weights to make sure that the class weights are fed in an order that the CrossEntropyLoss() function would expect'''\n",
    "print(sampler,'\\n',tag_weights)"
   ]
  },
  {
   "cell_type": "code",
   "execution_count": null,
   "metadata": {},
   "outputs": [],
   "source": [
    "'''Format inputs to be fed into model'''\n",
    "\n",
    "def prepare_sequence(seq, word2index):\n",
    "    idxs = list(map(lambda w: word2index[w] if word2index.get(w) is not None else word2index[\"<UNK>\"], seq))\n",
    "    return Variable(torch.Tensor(idxs)).long().cuda()\n",
    "\n",
    "def prepare_word(word, word2index):\n",
    "    return Variable(torch.Tensor([word2index[word]]) if word2index.get(word) is not None else torch.tensor([word2index[\"<UNK>\"]],dtype=torch.long)).cuda()\n",
    "\n",
    "# def prepare_tag(tag,tag2index):\n",
    "#     return Variable(torch.Tensor(np.array(tag2index[tag]))).long().cuda()\n",
    "\n",
    "def prepare_tag(tag,tag2index):\n",
    "    idxs = list(map(lambda t: tag2index[t], tag))\n",
    "    return Variable(torch.Tensor(idxs)).long().cuda()"
   ]
  },
  {
   "cell_type": "code",
   "execution_count": null,
   "metadata": {},
   "outputs": [],
   "source": [
    "'''Shuffle and split data into test  and train'''\n",
    "# random.shuffle(windows)\n",
    "test_data = windows[int(len(windows)*0.9):]\n",
    "train_data = windows[:int(len(windows)*0.9)]\n",
    "len(train_data)"
   ]
  },
  {
   "cell_type": "code",
   "execution_count": null,
   "metadata": {},
   "outputs": [],
   "source": [
    "'''Create batch generator'''\n",
    "\n",
    "def getBatch(batch_size, train_data):\n",
    "    #random.shuffle(train_data)\n",
    "    sindex = 0\n",
    "    eindex = batch_size\n",
    "    while eindex < len(train_data):\n",
    "        batch = train_data[sindex: eindex]\n",
    "        temp = eindex\n",
    "        eindex = eindex + batch_size\n",
    "        sindex = temp\n",
    "        yield batch\n",
    "    \n",
    "    if eindex >= len(train_data):\n",
    "        batch = train_data[sindex:]\n",
    "        yield batch"
   ]
  },
  {
   "cell_type": "markdown",
   "metadata": {},
   "source": [
    "# Data size transitions\n",
    "\n",
    "inputs torch.Size([128, 1, 9, 50])\n",
    "\n",
    "post cnn1 torch.Size([128, 120, 3, 1])\n",
    "post maxpool3 torch.Size([128, 120, 1])\n",
    "\n",
    "post cnn2 torch.Size([128, 120, 4, 1])\n",
    "post maxpool4 torch.Size([128, 120, 1])\n",
    "\n",
    "post cnn3 torch.Size([128, 120, 5, 1])\n",
    "post maxpool5 torch.Size([128, 120, 1])\n",
    "\n",
    "concatenated (cnn1 + cnn2 + cnn3) data: torch.Size([128, 360, 1])\n",
    "\n",
    "output post linear layer torch.Size([128, 10, 9])"
   ]
  },
  {
   "attachments": {
    "image.png": {
     "image/png": "[encoded data removed]"
    }
   },
   "cell_type": "markdown",
   "metadata": {},
   "source": [
    "![image.png](attachment:image.png)"
   ]
  },
  {
   "cell_type": "code",
   "execution_count": null,
   "metadata": {},
   "outputs": [],
   "source": [
    "'''The Model Definiton'''\n",
    "\n",
    "class CNN_NER(nn.Module): \n",
    "    def __init__(self,vocab_size,embedding_size):\n",
    "        # vocab_size, embedding_size, window_size, hidden_size, output_size\n",
    "\n",
    "        super(CNN_NER, self).__init__()\n",
    "        \n",
    "        self.embed = nn.Embedding(vocab_size, embedding_size)\n",
    "        self.cnn1 = nn.Conv2d(in_channels=1,padding=2,out_channels=120,kernel_size=(11,54),stride=1,dilation=1)\n",
    "        self.cnn2 = nn.Conv2d(in_channels=1,padding=2,out_channels=120,kernel_size=(10,54),stride=1,dilation=1)\n",
    "        self.cnn3 = nn.Conv2d(in_channels=1,padding=2,out_channels=120,kernel_size=(9,54),stride=1,dilation=1)\n",
    "        \n",
    "        self.relu = nn.ReLU()\n",
    "        self.maxpool3 = nn.MaxPool2d(kernel_size=(1,3))\n",
    "        self.maxpool4 = nn.MaxPool2d(kernel_size=(1,4))\n",
    "        self.maxpool5 = nn.MaxPool2d(kernel_size=(1,5))\n",
    "        self.linear = nn.Linear(36,9)\n",
    "        self.softmax = nn.LogSoftmax()\n",
    "        self.dropout = nn.Dropout(0.2)\n",
    "        \n",
    "    def forward(self,sent_grams,is_training):\n",
    "        embeds = self.embed(sent_grams)\n",
    "        embeds = embeds.unsqueeze(1)\n",
    "        #print('inputs',embeds.size())\n",
    "        \n",
    "        l1 = self.cnn1(embeds)\n",
    "        l1 = self.relu(l1)\n",
    "        if is_training:\n",
    "            l1 = self.dropout(l1)\n",
    "        #print('cnn1',l1.size())\n",
    "        l1 = l1.squeeze(3)\n",
    "        l1 = self.maxpool3(l1)\n",
    "        #print('maxpool3',l1.size())\n",
    "        \n",
    "        l2 = self.cnn2(embeds)\n",
    "        l2 = self.relu(l2)\n",
    "        if is_training:\n",
    "            l2 = self.dropout(l2)\n",
    "        #print('cnn2',l2.size())\n",
    "        l2 = l2.squeeze(3)\n",
    "        l2 = self.maxpool4(l2)\n",
    "        #print('maxpool4',l2.size())\n",
    "        \n",
    "        l3 = self.cnn3(embeds)\n",
    "        l3 = self.relu(l3)\n",
    "        if is_training:\n",
    "            l3 = self.dropout(l3)\n",
    "        #print('cnn3',l3.size())\n",
    "        l3 = l3.squeeze(3)\n",
    "        l3 = self.maxpool5(l3)\n",
    "        #print('maxpool5',l3.size())\n",
    "        \n",
    "        l4 = torch.cat((l1,l2,l3),1)\n",
    "        if is_training:\n",
    "            l4 = self.dropout(l4)\n",
    "        #print('concatenated',l4.size())\n",
    "        l4 = l4.view(l4.size(0),10,36)\n",
    "        #print('quished before linear layer',l4.size())\n",
    "        l5 = self.linear(l4)\n",
    "        #print('output',l5.size())\n",
    "        l5 = self.softmax(l5)\n",
    "        return l5\n",
    "        "
   ]
  },
  {
   "cell_type": "code",
   "execution_count": null,
   "metadata": {},
   "outputs": [],
   "source": [
    "'''Hyper-parameters'''\n",
    "\n",
    "BATCH_SIZE = 128\n",
    "EMBEDDING_SIZE = 50 # x (WINDOW_SIZE*2+1) = 250\n",
    "# HIDDEN_SIZE = 300\n",
    "# Test accuracy decreases after 5 epochs\n",
    "EPOCH = 15\n",
    "LEARNING_RATE = 0.003\n",
    "model = CNN_NER(len(word2index), EMBEDDING_SIZE)\n",
    "model.cuda()\n",
    "# Visualize the model paramters\n",
    "for name,params in model.named_parameters():\n",
    "    if params.requires_grad:\n",
    "        print(name,params.data.size())"
   ]
  },
  {
   "cell_type": "code",
   "execution_count": null,
   "metadata": {},
   "outputs": [],
   "source": [
    "'''define loss and optimizer\n",
    "ignore_index=word2index['<PAD>'] should only be used when the ignored class exists rarely in the input. Hence, we pass the class weights instead\n",
    "\n",
    "Area of Improvement: Addressing class imbalance in some way. Most word tags are O\\n and the model only learns this tag well.'''\n",
    "\n",
    "loss_function = nn.CrossEntropyLoss(weight = torch.Tensor(sampler)).cuda()\n",
    "#loss_function = nn.CrossEntropyLoss().cuda()\n",
    "optimizer = torch.optim.Adam(model.parameters(), lr=LEARNING_RATE)\n",
    "len(tag2index)"
   ]
  },
  {
   "cell_type": "code",
   "execution_count": null,
   "metadata": {},
   "outputs": [],
   "source": [
    "'''Train and Validate'''\n",
    "\n",
    "# There is a bug in here that, causes the loop counter to be printed twice. Kindly ignore for now.\n",
    "# 15 epochs actually means 30 epochs here.\n",
    "\n",
    "now = time.time()\n",
    "\n",
    "# TRAIN\n",
    "\n",
    "for epoch in range(EPOCH):\n",
    "    losses = []\n",
    "    for i,batch in enumerate(getBatch(BATCH_SIZE, train_data)):\n",
    "        \n",
    "        x,y=list(zip(*batch))\n",
    "        if len(x) == 128:\n",
    "            inputs = torch.cat([prepare_sequence(sent, word2index).view(1, -1) for sent in x])\n",
    "            targets = torch.cat([prepare_tag(tag, tag2index).view(1,-1) for tag in y])\n",
    "            #print('input size',inputs.size())\n",
    "            #print('target size',targets.size())\n",
    "            model.zero_grad()\n",
    "            preds = model(inputs, is_training=True)\n",
    "            #print('preds,targets before loss',preds.size(),targets.size())\n",
    "            loss = loss_function(preds, targets)\n",
    "            #print(loss.item())\n",
    "            losses.append(loss.item())\n",
    "            loss.backward()\n",
    "            optimizer.step()\n",
    "            \n",
    "            # VALIDATE\n",
    "            \n",
    "            #print(loss)\n",
    "            if i % 1000 == 0:\n",
    "                model.eval()\n",
    "                total = 0.0\n",
    "                correct = 0.0\n",
    "                #Testing\n",
    "                for i,batch in enumerate(getBatch(128, test_data)):\n",
    "                    x,y=list(zip(*batch))\n",
    "                    inputs = torch.cat([prepare_sequence(sent, word2index).view(1, -1) for sent in x])\n",
    "                    targets = torch.cat([prepare_tag(tag, tag2index).view(1,-1) for tag in y])\n",
    "                    model.zero_grad()\n",
    "                    preds = model(inputs, is_training=False)\n",
    "                    out = torch.max(preds,1)[1]\n",
    "                    total += targets.size(0)*targets.size(1)\n",
    "                    correct += (out.cpu()==targets.cpu()).sum()\n",
    "                    acc = correct.double()/total * 100\n",
    "                print(\"[%d/%d] mean_loss : %0.2f accuracy : %0.2f\" %(epoch, EPOCH, np.mean(losses),acc))\n",
    "                losses = []\n",
    "            model.train()\n",
    "print('time taken in seconds: {} seconds'.format(time.time()-now)) "
   ]
  },
  {
   "cell_type": "code",
   "execution_count": null,
   "metadata": {},
   "outputs": [],
   "source": [
    "''' Evaluate model on a custom sentence\n",
    "Returns: predicted class indices like so:\n",
    "\n",
    "[[8 4 4 4 4 4 8 4 4]]\n",
    "\n",
    "'''\n",
    "\n",
    "sent = input('Enter a sentence: ')\n",
    "seq = sent.split(' ')\n",
    "# seq2 = [seq for x in range(128)]\n",
    "# seq = seq*128\n",
    "print(seq)\n",
    "indices = prepare_sequence(seq,word2index)\n",
    "print(indices)\n",
    "indices.unsqueeze_(0)\n",
    "# print(indices.size())\n",
    "# Germany lost a soccer game to Spain on Tuesday\n",
    "model.eval()\n",
    "preds = model(indices,True)\n",
    "model.train()\n",
    "\n",
    "print(preds)\n",
    "final_preds = torch.max(preds,1)[1].cpu().numpy()\n",
    "print(final_preds)\n"
   ]
  },
  {
   "cell_type": "code",
   "execution_count": null,
   "metadata": {},
   "outputs": [],
   "source": [
    "'''Convert class indices to tags for better readability'''\n",
    "\n",
    "for preds in final_preds:\n",
    "    print([index2tag[pred] for pred in preds])"
   ]
  },
  {
   "cell_type": "code",
   "execution_count": null,
   "metadata": {},
   "outputs": [],
   "source": [
    "'''Code cells from here on, evaluate the F1 score of the model'''\n",
    "\n",
    "ytest = []\n",
    "for test in test_data:\n",
    "    #print('sent',test[0],'\\n label',test[1])\n",
    "    ytest.append(test[1])\n",
    "list(ytest)"
   ]
  },
  {
   "cell_type": "code",
   "execution_count": null,
   "metadata": {},
   "outputs": [],
   "source": [
    "for_f1_score = []\n",
    "accuracy = 0\n",
    "for test in test_data:\n",
    "    x, y = test[0], test[1]\n",
    "    input_ = prepare_sequence(x, word2index).view(1, -1)\n",
    "\n",
    "    i = model(input_,False).max(1)[1]\n",
    "    #print([index2tag[ind] for ind in i.data.tolist()[0]])\n",
    "    pred = [index2tag[ind] for ind in i.data.tolist()[0]]\n",
    "    for_f1_score.append([pred, y])\n",
    "    if pred == y:\n",
    "        accuracy += 1\n",
    "\n",
    "print(accuracy/len(test_data) * 100)"
   ]
  },
  {
   "cell_type": "code",
   "execution_count": null,
   "metadata": {},
   "outputs": [],
   "source": [
    "ypred,ytest = list(zip(*for_f1_score))"
   ]
  },
  {
   "cell_type": "code",
   "execution_count": null,
   "metadata": {},
   "outputs": [],
   "source": [
    "print(metrics.flat_classification_report(list(ytest), list(ypred), labels=sorted(tagset), digits=3))"
   ]
  },
  {
   "cell_type": "markdown",
   "metadata": {},
   "source": [
    "## Double tap for  better readability\n",
    "\n",
    "###                      precision  recall    f1-score    support\n",
    "\n",
    "         B-LOC\n",
    "          0.789     0.809     0.799      4196\n",
    "\n",
    "        B-MISC\n",
    "          0.733     0.741     0.737      2026\n",
    "\n",
    "         B-ORG\n",
    "          0.590     0.480     0.529      2929\n",
    "\n",
    "         B-PER\n",
    "          0.635     0.756     0.690      2472\n",
    "\n",
    "         I-LOC\n",
    "          0.894     0.610     0.725      1023\n",
    "\n",
    "        I-MISC\n",
    "          0.544     0.382     0.449       468\n",
    "\n",
    "         I-ORG\n",
    "          0.788     0.528     0.632      3271\n",
    "\n",
    "         I-PER\n",
    "          0.854     0.651     0.739      1543\n",
    "\n",
    "             O\n",
    "          0.971     0.983     0.977    143315\n",
    "\n",
    "    avg / total      0.945     0.947     0.945    161243\n"
   ]
  },
  {
   "cell_type": "code",
   "execution_count": null,
   "metadata": {},
   "outputs": [],
   "source": []
  },
  {
   "cell_type": "code",
   "execution_count": null,
   "metadata": {},
   "outputs": [],
   "source": []
  },
  {
   "cell_type": "code",
   "execution_count": null,
   "metadata": {},
   "outputs": [],
   "source": []
  },
  {
   "cell_type": "code",
   "execution_count": null,
   "metadata": {},
   "outputs": [],
   "source": [
    "'''Save the state_dict of the model. The best model by far has been saved to the local drive.\n",
    "Please feel free to play around!\n",
    "Further improvement model/weights initialization'''\n",
    "\n",
    "torch.save(model.state_dict(),'CNN_NER_checkpoint1.pth')"
   ]
  },
  {
   "cell_type": "code",
   "execution_count": null,
   "metadata": {},
   "outputs": [],
   "source": [
    "torch.cuda.is_available()"
   ]
  },
  {
   "cell_type": "code",
   "execution_count": null,
   "metadata": {},
   "outputs": [],
   "source": []
  }
 ],
 "metadata": {
  "kernelspec": {
   "display_name": "Python 3",
   "language": "python",
   "name": "python3"
  },
  "language_info": {
   "codemirror_mode": {
    "name": "ipython",
    "version": 3
   },
   "file_extension": ".py",
   "mimetype": "text/x-python",
   "name": "python",
   "nbconvert_exporter": "python",
   "pygments_lexer": "ipython3",
   "version": "3.6.5"
  }
 },
 "nbformat": 4,
 "nbformat_minor": 2
}
